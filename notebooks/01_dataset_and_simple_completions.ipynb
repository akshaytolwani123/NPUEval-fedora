{
 "cells": [
  {
   "cell_type": "markdown",
   "id": "88e257be-8b03-4cb3-9288-15dc2cfa2311",
   "metadata": {},
   "source": [
    "# The NPUEval dataset\n",
    "\n",
    "This notebook shows how to load the npueval dataset and produce one code generation. We will use the NPUEval AIECoder class as a thin wrapper over OpenAI and Anthropic client APIs. We will also explore the benefits of compiler feedback to the LLM so it can correct itself and resolve hallucinations.\n",
    "\n",
    "## Goals\n",
    "\n",
    "* Learn how to load and parse the dataset\n",
    "* Generate a single prompt completion (with recompilation attempts)\n",
    "* Parse the response to extract only the generated source code\n",
    "\n",
    "## Understanding the dataset\n",
    "\n",
    "NPUEval is stored in a JSON List (JSONL) file format and can be found in `dataset/npueval.jsonl`. We provide a convenient wrapper to load and iterate the dataset kernels."
   ]
  },
  {
   "cell_type": "code",
   "execution_count": 1,
   "id": "356c07b5-9135-405b-927c-d9a4dc0828e1",
   "metadata": {},
   "outputs": [],
   "source": [
    "from npueval import dataset"
   ]
  },
  {
   "cell_type": "markdown",
   "id": "3e86eedd-47a3-484c-95cb-daf99e2a97f5",
   "metadata": {},
   "source": [
    "### Dataset format\n",
    "\n",
    "The dataset consists of 100+ NPU kernel prompts and test vectors."
   ]
  },
  {
   "cell_type": "code",
   "execution_count": 2,
   "id": "8e29bf00-2948-474e-8041-f9f7a7439990",
   "metadata": {},
   "outputs": [
    {
     "data": {
      "text/plain": [
       "102"
      ]
     },
     "execution_count": 2,
     "metadata": {},
     "output_type": "execute_result"
    }
   ],
   "source": [
    "len(dataset)"
   ]
  },
  {
   "cell_type": "markdown",
   "id": "a30788d4-3386-4169-bbf8-1fe3dea05748",
   "metadata": {},
   "source": [
    "They're listed in alphabetical order and the suffix denotes the primary datatype they operate with."
   ]
  },
  {
   "cell_type": "code",
   "execution_count": 3,
   "id": "0a98e0c6-b606-4085-b157-383af70310e9",
   "metadata": {},
   "outputs": [
    {
     "name": "stdout",
     "output_type": "stream",
     "text": [
      "abs_int8\n",
      "add_offset_int8\n",
      "add_offset_uint8\n",
      "argmax_bfloat16\n",
      "argmax_int32\n"
     ]
    }
   ],
   "source": [
    "for kernel in dataset[:5]:\n",
    "    print(kernel['kernel_name'])"
   ]
  },
  {
   "cell_type": "markdown",
   "id": "e4f7edec-3881-4fc2-81a3-53fa4ed11617",
   "metadata": {},
   "source": [
    "Each entry in the dataset has the following fields:\n",
    "* kernel_name -- name of the kernel, matches the name in the function signature.\n",
    "* prompt -- the core part of the dataset, this is what will be fed to an LLM to generate a solution.\n",
    "* canonical_solution -- an optional baseline, unoptimized solution, these are used to help generate the prompts and to run tests.\n",
    "* program_code -- the wrapper code around the kernel call that adds event tracing to help us measure performance.\n",
    "* test_vectors -- reference input and output vectors to verify functional correctness of the LLM solution.\n",
    "\n",
    "We can look up kernels by name using the `get_by_name` method. This is useful when focusing on a single kernel for further optimization or debug. "
   ]
  },
  {
   "cell_type": "code",
   "execution_count": 4,
   "id": "469387f4-80a0-4536-aa79-dff1d030dbcf",
   "metadata": {},
   "outputs": [
    {
     "data": {
      "text/plain": [
       "dict_keys(['kernel_name', 'prompt', 'canonical_solution', 'program_code', 'test_vectors', 'tolerances'])"
      ]
     },
     "execution_count": 4,
     "metadata": {},
     "output_type": "execute_result"
    }
   ],
   "source": [
    "sample = dataset.get_by_name('relu_bfloat16')\n",
    "sample.keys()"
   ]
  },
  {
   "cell_type": "markdown",
   "id": "57fc455a-e93a-436a-a967-f52b0d54c42e",
   "metadata": {},
   "source": [
    "### Prompt structure\n",
    "\n",
    "The prompt structure is very simple -- there is a docstring which includes the description and shapes of the implemented kernel, then a function definition.\n",
    "\n",
    "#### Plain prompt"
   ]
  },
  {
   "cell_type": "code",
   "execution_count": 5,
   "id": "2169bc17-0de7-48f5-a540-2ef4357f6c59",
   "metadata": {},
   "outputs": [
    {
     "name": "stdout",
     "output_type": "stream",
     "text": [
      "/*\n",
      "This AIE kernel performs a ReLU activation on a bfloat16 input vector of fixed size.\n",
      ">>> relu_bfloat16([1.765625, 0.400390625, 0.98046875, 2.234375, 1.8671875, -0.9765625, 0.94921875, -0.1513671875])\n",
      "[1.765625, 0.400390625, 0.98046875, 2.234375, 1.8671875, 0.0, 0.94921875, 0.0]\n",
      "This kernel should be optimized for the following input/output buffer shapes and parameters:\n",
      "in_buffer size: 256\n",
      "out_buffer size: 256\n",
      "*/\n",
      "#include <aie_api/aie.hpp>\n",
      "#include \"aie_kernel_utils.h\"\n",
      "\n",
      "void relu_bfloat16(bfloat16 *in_buffer, bfloat16 *out_buffer) {\n",
      "    // Implementation goes here\n",
      "}\n",
      "\n"
     ]
    }
   ],
   "source": [
    "print(sample['prompt'])"
   ]
  },
  {
   "cell_type": "markdown",
   "id": "6cf78c3f-8f7a-44eb-9833-e5d718f98362",
   "metadata": {},
   "source": [
    "#### Prompt + canonical solution\n",
    "\n",
    "We can use the canonical solution to complete this implementation just to see the full functional kernel source code should look like. Note that the canonical solution does not use any AIE APIs and is not optimized."
   ]
  },
  {
   "cell_type": "code",
   "execution_count": 6,
   "id": "c2a2bab1-e6b0-414d-9584-afc8c5520ee7",
   "metadata": {},
   "outputs": [
    {
     "name": "stdout",
     "output_type": "stream",
     "text": [
      "/*\n",
      "This AIE kernel performs a ReLU activation on a bfloat16 input vector of fixed size.\n",
      ">>> relu_bfloat16([1.765625, 0.400390625, 0.98046875, 2.234375, 1.8671875, -0.9765625, 0.94921875, -0.1513671875])\n",
      "[1.765625, 0.400390625, 0.98046875, 2.234375, 1.8671875, 0.0, 0.94921875, 0.0]\n",
      "This kernel should be optimized for the following input/output buffer shapes and parameters:\n",
      "in_buffer size: 256\n",
      "out_buffer size: 256\n",
      "*/\n",
      "#include <aie_api/aie.hpp>\n",
      "#include \"aie_kernel_utils.h\"\n",
      "\n",
      "void relu_bfloat16(bfloat16 *in_buffer, bfloat16 *out_buffer) {\n",
      "    // Implementation goes here\n",
      "constexpr int32_t num_elements = 256;\n",
      "    for (uint32_t i = 0; i < num_elements; ++i) {\n",
      "        out_buffer[i] = in_buffer[i] < 0 ? 0 : in_buffer[i];\n",
      "    }\n",
      "}\n"
     ]
    }
   ],
   "source": [
    "print(sample['prompt'][:-2]+sample['canonical_solution'])"
   ]
  },
  {
   "cell_type": "markdown",
   "id": "c721d5c6-4249-43cc-a2e3-0f9c5055d863",
   "metadata": {},
   "source": [
    "#### Prompt + canonical solution + kernel wrapper\n",
    "\n",
    "Once we add the wrapper code we can see the full implementation. The wrapper code sets a default rounding mode to match the Python ml_dtypes implementation of bfloat16 and adds event trace markers so we can measure the runtime in cycles post-execution."
   ]
  },
  {
   "cell_type": "code",
   "execution_count": 7,
   "id": "3c28aac5-071f-456d-871b-7689ac11a9b0",
   "metadata": {},
   "outputs": [
    {
     "name": "stdout",
     "output_type": "stream",
     "text": [
      "/*\n",
      "This AIE kernel performs a ReLU activation on a bfloat16 input vector of fixed size.\n",
      ">>> relu_bfloat16([1.765625, 0.400390625, 0.98046875, 2.234375, 1.8671875, -0.9765625, 0.94921875, -0.1513671875])\n",
      "[1.765625, 0.400390625, 0.98046875, 2.234375, 1.8671875, 0.0, 0.94921875, 0.0]\n",
      "This kernel should be optimized for the following input/output buffer shapes and parameters:\n",
      "in_buffer size: 256\n",
      "out_buffer size: 256\n",
      "*/\n",
      "#include <aie_api/aie.hpp>\n",
      "#include \"aie_kernel_utils.h\"\n",
      "\n",
      "void relu_bfloat16(bfloat16 *in_buffer, bfloat16 *out_buffer) {\n",
      "    // Implementation goes here\n",
      "constexpr int32_t num_elements = 256;\n",
      "    for (uint32_t i = 0; i < num_elements; ++i) {\n",
      "        out_buffer[i] = in_buffer[i] < 0 ? 0 : in_buffer[i];\n",
      "    }\n",
      "}extern \"C\" {\n",
      "    void relu_bfloat16_wrapper(bfloat16 *in_buffer, bfloat16 *out_buffer) {\n",
      "        ::aie::set_rounding(aie::rounding_mode::positive_inf);\n",
      "        event0();\n",
      "        relu_bfloat16(in_buffer, out_buffer);\n",
      "        event1();\n",
      "    }\n",
      "}\n"
     ]
    }
   ],
   "source": [
    "print(sample['prompt'][:-2] + sample['canonical_solution'] + sample['program_code'])"
   ]
  },
  {
   "cell_type": "markdown",
   "id": "8705d811-8bb7-4807-8659-470e3b7e889a",
   "metadata": {},
   "source": [
    "## Generating completions\n",
    "\n",
    "In this section we will explore how to generate a completion using the NPUEval built-in AIECoder agent.\n",
    "\n",
    "### AIECoder - a simple coding agent\n",
    "\n",
    "We provide a code generator `AIECoder` class that acts as a lightweight wrapper of the openai/anthropic clients and integrates an open source single core AIE compiler. \n",
    "\n",
    "By default it points to the default OpenAI endpoint url, but you can provide a custom `base_url` if using your own solution i.e. locally hosted models with vLLM or llama.cpp.\n",
    "\n",
    "Make sure you have `OPENAI_API_KEY` or `ANTHROPIC_API_KEY` set in your environment, if not then you can pass it as a parameter or use `os.environ`."
   ]
  },
  {
   "cell_type": "code",
   "execution_count": 8,
   "id": "39058b1d-7571-4e5d-94ec-28278d21281c",
   "metadata": {},
   "outputs": [
    {
     "name": "stdout",
     "output_type": "stream",
     "text": [
      "<openai.OpenAI object at 0x763ce163b8c0>\n"
     ]
    }
   ],
   "source": [
    "from npueval.aiecoder import AIECoder\n",
    "# import os\n",
    "# os.environ['OPENAI_API_KEY'] = \"sk-...\"\n",
    "# or \n",
    "# AIECoder(api_key=\"your api key here\")\n",
    "\n",
    "coder = AIECoder()\n",
    "print(coder.client)"
   ]
  },
  {
   "cell_type": "markdown",
   "id": "3d3cd0ba-1549-4f28-8353-b73b33817478",
   "metadata": {},
   "source": [
    "Some of the important parameters we can pass to the coder are:\n",
    "* Name of LLM we want to connect to (defaults to gpt-4o)\n",
    "* Temperature (defaults to 0)\n",
    "* Number of recompilation attempts (defaults to 1)"
   ]
  },
  {
   "cell_type": "code",
   "execution_count": 9,
   "id": "a6163bfc-3797-42a0-8a12-b6a48221a151",
   "metadata": {},
   "outputs": [
    {
     "name": "stdout",
     "output_type": "stream",
     "text": [
      "coder.model='gpt-4'\n",
      "coder.temperature=0.0\n",
      "coder.attempts=1\n"
     ]
    }
   ],
   "source": [
    "print(f\"{coder.model=}\")\n",
    "print(f\"{coder.temperature=}\")\n",
    "print(f\"{coder.attempts=}\")"
   ]
  },
  {
   "cell_type": "markdown",
   "id": "31d57b60-b417-4f94-b029-cdae23a91875",
   "metadata": {},
   "source": [
    "### System prompt\n",
    "\n",
    "The AIECoder system prompt is primarily used to steer the output formatting rather than help the LLM optimize the kernels -- this is because for the baseline case we just want to evaluate the base LLM capability on this code generation task. We want it to produce a single code block of *only* the AIE kernel C++. Without the system prompt it might try to explain step by step generating multiple C++ blocks or bash commands for compilation as well -- this would be difficult for us to parse programmatically."
   ]
  },
  {
   "cell_type": "code",
   "execution_count": 10,
   "id": "3539b0a1-d479-447b-9c8f-42c1b1d4a4e0",
   "metadata": {},
   "outputs": [
    {
     "name": "stdout",
     "output_type": "stream",
     "text": [
      "You are a part of a code generation system for AIE (AI Engines).\n",
      "\n",
      "* Your job is to write C++ code for a single kernel that will run on an AIE tile.\n",
      "* Produce only the C++ code for the requested kernel including any required headers and imports.\n",
      "* Make sure the C++ code is complete and self contained in a single code block.\n",
      "* Name the function exactly as specified in the request, and output only the kernel (no main(), examples, explanations or extra code).\n",
      "\n"
     ]
    }
   ],
   "source": [
    "print(coder.system_prompt)"
   ]
  },
  {
   "cell_type": "markdown",
   "id": "dc731f3e-b2e0-4fd1-b269-95a0295ff439",
   "metadata": {},
   "source": [
    "### Generate a single code completion\n",
    "\n",
    "We'll create a `coder` object that uses gpt-4o and set number of `attempts=2` - this means it will try to generate another completion if the first try fails. You can set this to any number you want with context window being the limiting factor. By default the AIECoder class has attempts=1 which means it won't try to recompile and just output the first generated response from the model."
   ]
  },
  {
   "cell_type": "code",
   "execution_count": 37,
   "id": "97033783-9f8e-4e03-8adf-81c2d8dd6817",
   "metadata": {},
   "outputs": [],
   "source": [
    "sample = dataset.get_by_name('conv1d_int32')\n",
    "\n",
    "coder = AIECoder(model='gpt-4o', temperature=0.4, attempts=2)\n",
    "response = coder(sample['prompt'])"
   ]
  },
  {
   "cell_type": "markdown",
   "id": "c2ce8814-4b12-43cb-90c4-5ec9e2eba656",
   "metadata": {},
   "source": [
    "Print the response to see the last generated codeblock by the model:"
   ]
  },
  {
   "cell_type": "code",
   "execution_count": 38,
   "id": "01a5016b-b67b-4161-ad20-b70debf0bc71",
   "metadata": {},
   "outputs": [
    {
     "name": "stdout",
     "output_type": "stream",
     "text": [
      "```cpp\n",
      "#include <cstdint>\n",
      "\n",
      "void conv1d_int32(int32_t *in_buffer, int32_t *kernel, int32_t *out_buffer, uint32_t stride) {\n",
      "    const int in_size = 256;\n",
      "    const int kernel_size = 3;\n",
      "    const int out_size = 254; // Calculated as (in_size - kernel_size) / stride + 1\n",
      "\n",
      "    for (int i = 0; i < out_size; i += stride) {\n",
      "        int32_t sum = 0;\n",
      "        for (int j = 0; j < kernel_size; ++j) {\n",
      "            sum += in_buffer[i + j] * kernel[j];\n",
      "        }\n",
      "        out_buffer[i] = sum;\n",
      "    }\n",
      "}\n",
      "```\n"
     ]
    }
   ],
   "source": [
    "print(response['response'])"
   ]
  },
  {
   "cell_type": "markdown",
   "id": "fc21b209-6067-4aa4-af11-549ec2ade21c",
   "metadata": {},
   "source": [
    "We can also look at the internal message history of what happened to get to this response:"
   ]
  },
  {
   "cell_type": "code",
   "execution_count": 39,
   "id": "4fcb5814-a786-49b2-aace-6adc751a46cb",
   "metadata": {},
   "outputs": [
    {
     "name": "stdout",
     "output_type": "stream",
     "text": [
      "system\n",
      "You are a part of a code generation system for AIE (AI Engines).\n",
      "\n",
      "* Your job is to write C++ code for a single kernel that will run on an AIE tile.\n",
      "* Produce only the C++ code for the requested kernel including any required headers and imports.\n",
      "* Make sure the C++ code is complete and self contained in a single code block.\n",
      "* Name the function exactly as specified in the request, and output only the kernel (no main(), examples, explanations or extra code).\n",
      "\n",
      "user\n",
      "/*\n",
      "A kernel that performs a 1D convolution operation on an input vector with a given kernel and stride as runtime parameters.\n",
      ">>> conv1d_int32([2, 5, -10, -7, -7, -3, -1, 9], [1, 7, -4], 1)\n",
      "[77, -37, -31, -44, -24, -46]\n",
      "This kernel should be optimized for the following input/output buffer shapes and parameters:\n",
      "in_buffer size: 256\n",
      "kernel size: 3\n",
      "out_buffer size: 254\n",
      "stride: 1\n",
      "*/\n",
      "#include <aie_api/aie.hpp>\n",
      "\n",
      "void conv1d_int32(int32_t *in_buffer, int32_t *kernel, int32_t *out_buffer, uint32_t stride) {\n",
      "\n",
      "assistant\n",
      "```cpp\n",
      "#include <aie_api/aie.hpp>\n",
      "#include <aie_api/aie_adf.hpp>\n",
      "\n",
      "void conv1d_int32(int32_t *in_buffer, int32_t *kernel, int32_t *out_buffer, uint32_t stride) {\n",
      "    const int in_size = 256;\n",
      "    const int kernel_size = 3;\n",
      "    const int out_size = 254; // Calculated as (in_size - kernel_size) / stride + 1\n",
      "\n",
      "    for (int i = 0; i < out_size; i += stride) {\n",
      "        int32_t sum = 0;\n",
      "        for (int j = 0; j < kernel_size; ++j) {\n",
      "            sum += in_buffer[i + j] * kernel[j];\n",
      "        }\n",
      "        out_buffer[i] = sum;\n",
      "    }\n",
      "}\n",
      "```\n",
      "user\n",
      "Compilation failed with:\n",
      "clang version 19.0.0 (https://github.com/Xilinx/llvm-aie b2a279c1939604e2ee82a651683dd995decc25ee)\n",
      "Target: aie2-none-unknown-elf\n",
      "Thread model: posix\n",
      "InstalledDir: /IRON/mlir-aie/ironenv/lib/python3.12/site-packages/llvm-aie/bin\n",
      "Build config: +assertions\n",
      "Found HIP installation: /usr, version 5.7.31921\n",
      " (in-process)\n",
      " \"/IRON/mlir-aie/ironenv/lib/python3.12/site-packages/llvm-aie/bin/clang++\" -cc1 -triple aie2-none-unknown-elf -emit-obj -disable-free -clear-ast-before-backend -main-file-name kernel.cc -mrelocation-model static -mframe-pointer=none -fmath-errno -ffp-contract=on -fno-rounding-math -mconstructor-aliases -fno-use-init-array -mllvm -vectorize-loops=false -mllvm -vectorize-slp=false -mllvm --two-entry-phi-node-folding-threshold=10 -fno-threadsafe-statics -mllvm -mandatory-inlining-before-opt=false -mllvm -basic-aa-full-phi-analysis=true -mllvm -basic-aa-max-lookup-search-depth=10 -mllvm -enable-loop-iter-count-assumptions=true -debugger-tuning=gdb -fdebug-compilation-dir=/host/notebooks -v -fcoverage-compilation-dir=/host/notebooks -resource-dir /IRON/mlir-aie/ironenv/lib/python3.12/site-packages/llvm-aie/lib/clang/19 -D NDEBUG -I /IRON/mlir-aie/ironenv/lib/python3.12/site-packages/mlir_aie/include -internal-isystem /IRON/mlir-aie/ironenv/lib/python3.12/site-packages/llvm-aie/bin/../include/aie2-none-unknown-elf/c++/v1 -internal-isystem /IRON/mlir-aie/ironenv/lib/python3.12/site-packages/llvm-aie/bin/../include/c++/v1 -include aiev2intrin.h -D__AIENGINE__ -D__AIEARCH__=20 -nostdsysteminc -internal-externc-isystem /IRON/mlir-aie/ironenv/lib/python3.12/site-packages/llvm-aie/bin/../include/aie2-none-unknown-elf -O2 -Wno-parentheses -Wno-attributes -Wno-macro-redefined -std=c++20 -fdeprecated-macro -ferror-limit 19 -fgnuc-version=4.2.1 -fno-implicit-modules -fskip-odr-check-in-gmf -fcxx-exceptions -fexceptions -vectorize-loops -vectorize-slp -faddrsig -D__GCC_HAVE_DWARF2_CFI_ASM=1 -o /host/notebooks/output/kernel.o -x c++ /host/notebooks/output/kernel.cc\n",
      "clang -cc1 version 19.0.0 based upon LLVM 19.0.0 default target x86_64-unknown-linux-gnu\n",
      "#include \"...\" search starts here:\n",
      "#include <...> search starts here:\n",
      " /IRON/mlir-aie/ironenv/lib/python3.12/site-packages/mlir_aie/include\n",
      " /IRON/mlir-aie/ironenv/lib/python3.12/site-packages/llvm-aie/bin/../include/aie2-none-unknown-elf/c++/v1\n",
      " /IRON/mlir-aie/ironenv/lib/python3.12/site-packages/llvm-aie/bin/../include/c++/v1\n",
      " /IRON/mlir-aie/ironenv/lib/python3.12/site-packages/llvm-aie/bin/../include/aie2-none-unknown-elf\n",
      " /IRON/mlir-aie/ironenv/lib/python3.12/site-packages/llvm-aie/lib/clang/19/include\n",
      "End of search list.\n",
      "In file included from /host/notebooks/output/kernel.cc:1:\n",
      "In file included from /IRON/mlir-aie/ironenv/lib/python3.12/site-packages/mlir_aie/include/aie_api/aie.hpp:41:\n",
      "In file included from /IRON/mlir-aie/ironenv/lib/python3.12/site-packages/mlir_aie/include/aie_api/detail/abs.hpp:63:\n",
      "In file included from /IRON/mlir-aie/ironenv/lib/python3.12/site-packages/mlir_aie/include/aie_api/detail/aie2/abs.hpp:10:\n",
      "In file included from /IRON/mlir-aie/ironenv/lib/python3.12/site-packages/mlir_aie/include/aie_api/detail/aie2/../broadcast.hpp:13:\n",
      "In file included from /IRON/mlir-aie/ironenv/lib/python3.12/site-packages/mlir_aie/include/aie_api/detail/aie2/../../accum.hpp:10:\n",
      "In file included from /IRON/mlir-aie/ironenv/lib/python3.12/site-packages/mlir_aie/include/aie_api/detail/aie2/../../aie_types.hpp:19:\n",
      "In file included from /IRON/mlir-aie/ironenv/lib/python3.12/site-packages/mlir_aie/include/aie_api/detail/aie2/../../detail/mdspan.hpp:12:\n",
      "In file included from /IRON/mlir-aie/ironenv/lib/python3.12/site-packages/mlir_aie/include/aie_api/detail/aie2/../../detail/../iterator.hpp:12:\n",
      "/IRON/mlir-aie/ironenv/lib/python3.12/site-packages/mlir_aie/include/aie_api/detail/aie2/../../detail/../detail/array_helpers.hpp:750:9: warning: if statement has empty body [-Wempty-body]\n",
      "  750 |         REQUIRES_MSG(elems % Elems == 0,                          \"Array size needs to be a multiple of vector size\");\n",
      "      |         ^\n",
      "/IRON/mlir-aie/ironenv/lib/python3.12/site-packages/mlir_aie/include/aie_api/detail/../detail/utils.hpp:764:13: note: expanded from macro 'REQUIRES_MSG'\n",
      "  764 |             STATIC_ASSERT_CONSTANT_EXPRESSION(a, m); \\\n",
      "      |             ^\n",
      "/IRON/mlir-aie/ironenv/lib/python3.12/site-packages/mlir_aie/include/aie_api/detail/../detail/utils.hpp:750:92: note: expanded from macro 'STATIC_ASSERT_CONSTANT_EXPRESSION'\n",
      "  750 | #define STATIC_ASSERT_CONSTANT_EXPRESSION(e, m) do { if (!chess_manifest(e)) chess_error(m); } while (0)\n",
      "      |                                                                                            ^\n",
      "/IRON/mlir-aie/ironenv/lib/python3.12/site-packages/mlir_aie/include/aie_api/detail/aie2/../../detail/../detail/array_helpers.hpp:750:9: note: put the semicolon on a separate line to silence this warning\n",
      "/IRON/mlir-aie/ironenv/lib/python3.12/site-packages/mlir_aie/include/aie_api/detail/../detail/utils.hpp:764:13: note: expanded from macro 'REQUIRES_MSG'\n",
      "  764 |             STATIC_ASSERT_CONSTANT_EXPRESSION(a, m); \\\n",
      "      |             ^\n",
      "/IRON/mlir-aie/ironenv/lib/python3.12/site-packages/mlir_aie/include/aie_api/detail/../detail/utils.hpp:750:92: note: expanded from macro 'STATIC_ASSERT_CONSTANT_EXPRESSION'\n",
      "  750 | #define STATIC_ASSERT_CONSTANT_EXPRESSION(e, m) do { if (!chess_manifest(e)) chess_error(m); } while (0)\n",
      "      |                                                                                            ^\n",
      "In file included from /host/notebooks/output/kernel.cc:2:\n",
      "In file included from /IRON/mlir-aie/ironenv/lib/python3.12/site-packages/mlir_aie/include/aie_api/aie_adf.hpp:32:\n",
      "/IRON/mlir-aie/ironenv/lib/python3.12/site-packages/mlir_aie/include/aie_api/adf/stream.hpp:10:10: fatal error: 'adf.h' file not found\n",
      "   10 | #include <adf.h>\n",
      "      |          ^~~~~~~\n",
      "1 warning and 1 error generated.\n",
      "\n",
      "assistant\n",
      "```cpp\n",
      "#include <cstdint>\n",
      "\n",
      "void conv1d_int32(int32_t *in_buffer, int32_t *kernel, int32_t *out_buffer, uint32_t stride) {\n",
      "    const int in_size = 256;\n",
      "    const int kernel_size = 3;\n",
      "    const int out_size = 254; // Calculated as (in_size - kernel_size) / stride + 1\n",
      "\n",
      "    for (int i = 0; i < out_size; i += stride) {\n",
      "        int32_t sum = 0;\n",
      "        for (int j = 0; j < kernel_size; ++j) {\n",
      "            sum += in_buffer[i + j] * kernel[j];\n",
      "        }\n",
      "        out_buffer[i] = sum;\n",
      "    }\n",
      "}\n",
      "```\n"
     ]
    }
   ],
   "source": [
    "for msg in response['history']:\n",
    "    print(msg['role'])\n",
    "    print(msg['content'])"
   ]
  },
  {
   "cell_type": "markdown",
   "id": "1cf3ec1b-67e2-4e4a-87cc-74ae9be7f5b7",
   "metadata": {},
   "source": [
    "Looks like the model hallucinated some APIs that don't exist, the coder fed the compiler feedback back to the LLM and the final codeblock actually compiled!\n",
    "\n",
    "### Extracting the code\n",
    "\n",
    "Note that the response still includes some markdown i.e. starts with \"\\`\\`\\`cpp\" and ends with \"\\`\\`\\`\". You can use the extract_codeblock helper method to extract only the code - this is used internally by the class to send code to the compiler."
   ]
  },
  {
   "cell_type": "code",
   "execution_count": 41,
   "id": "a71816b3-6d49-465a-b0b4-beabf7fce9b1",
   "metadata": {},
   "outputs": [
    {
     "name": "stdout",
     "output_type": "stream",
     "text": [
      "#include <cstdint>\n",
      "\n",
      "void conv1d_int32(int32_t *in_buffer, int32_t *kernel, int32_t *out_buffer, uint32_t stride) {\n",
      "    const int in_size = 256;\n",
      "    const int kernel_size = 3;\n",
      "    const int out_size = 254; // Calculated as (in_size - kernel_size) / stride + 1\n",
      "\n",
      "    for (int i = 0; i < out_size; i += stride) {\n",
      "        int32_t sum = 0;\n",
      "        for (int j = 0; j < kernel_size; ++j) {\n",
      "            sum += in_buffer[i + j] * kernel[j];\n",
      "        }\n",
      "        out_buffer[i] = sum;\n",
      "    }\n",
      "}\n"
     ]
    }
   ],
   "source": [
    "print(coder.extract_codeblock(response['response']))"
   ]
  },
  {
   "cell_type": "markdown",
   "id": "d065bde5-6192-4cc0-89f1-f2e898c30e60",
   "metadata": {},
   "source": [
    "Now we have a codeblock that can be easily written to a C++ source file and used by all sorts of compilers down the line."
   ]
  },
  {
   "cell_type": "markdown",
   "id": "ca35bcbe-6517-4e68-9143-167545c7e86d",
   "metadata": {},
   "source": [
    "-----\n",
    "Copyright© 2025 AMD, Inc SPDX-License-Identifier: MIT "
   ]
  }
 ],
 "metadata": {
  "kernelspec": {
   "display_name": "Python 3 (ipykernel)",
   "language": "python",
   "name": "python3"
  },
  "language_info": {
   "codemirror_mode": {
    "name": "ipython",
    "version": 3
   },
   "file_extension": ".py",
   "mimetype": "text/x-python",
   "name": "python",
   "nbconvert_exporter": "python",
   "pygments_lexer": "ipython3",
   "version": "3.12.7"
  }
 },
 "nbformat": 4,
 "nbformat_minor": 5
}
