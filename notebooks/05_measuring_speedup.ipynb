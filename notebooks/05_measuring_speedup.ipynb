{
 "cells": [
  {
   "cell_type": "markdown",
   "id": "bfe95051-bbcf-4793-b2f4-226bee847692",
   "metadata": {},
   "source": [
    "# Measuring speedup over baseline kernels\n",
    "\n",
    "NPUEval comes with 102 canonical unoptimized kernels along with the prompts. These are useful for setting the baseline floor of performance. They also give us a concrete cycle count values which ultimately we want to minimize. In this notebook we will learn how to plot and interpret the relative speedup values of the test kernels.\n",
    "\n",
    "Before running this notebook make sure you have ran the `run_canonical.py` script located in the scripts/ dir of this repository. This ensures that the baseline evaluations are available.\n",
    "\n",
    "## Goals\n",
    "\n",
    "* Generate speedup plots using previously generated results + canonical solutions\n",
    "\n",
    "## Imports and setup\n",
    "\n",
    "Like in previous notebooks we'll only use two models and a small subset of the dataset for illustration purposes."
   ]
  },
  {
   "cell_type": "code",
   "execution_count": 1,
   "id": "2757bd9f-3945-421f-bb2c-4da859d0747a",
   "metadata": {},
   "outputs": [],
   "source": [
    "import os\n",
    "import json\n",
    "import pandas as pd\n",
    "import math\n",
    "import matplotlib.pyplot as plt\n",
    "\n",
    "from npueval import dataset\n",
    "\n",
    "models = [\n",
    "    \"gpt-4.1\", \n",
    "    \"gpt-4o-mini\",\n",
    "]\n",
    "\n",
    "tests = dataset[:5]"
   ]
  },
  {
   "cell_type": "markdown",
   "id": "c0f67ce9-9f5e-425e-9e7f-0a2454fb6672",
   "metadata": {},
   "source": [
    "## Parse results\n",
    "\n",
    "We'll iterate over the same 5 kernels that were generated in the previous notebooks. You can adapt this snippet to point to your own evaluations directory and model list."
   ]
  },
  {
   "cell_type": "code",
   "execution_count": 2,
   "id": "31812af4-5c46-453d-ab7a-3adfb3609696",
   "metadata": {},
   "outputs": [
    {
     "name": "stdout",
     "output_type": "stream",
     "text": [
      "gpt-4.1\n",
      "gpt-4o-mini\n",
      "         model  avg_score  pass_rate   speedup\n",
      "0      gpt-4.1   0.011481        0.6  3.997621\n",
      "1  gpt-4o-mini   0.020455        1.0  1.000000\n"
     ]
    }
   ],
   "source": [
    "# We'll keep a list of results per model config\n",
    "results = []\n",
    "\n",
    "# Calculate stats for each model (including pass rate, vectorization score and speedup)\n",
    "for model in models:\n",
    "    print(model)\n",
    "\n",
    "    # Solutions path of previously run model evaluations\n",
    "    solutions_path = f\"results/evaluations/{model}/\"\n",
    "\n",
    "    # Canonical kernel evaluations (make sure to run before this notebook)\n",
    "    canonical_path = \"../results/evaluations/canonical/\"\n",
    "\n",
    "    # Initialize totals at 0\n",
    "    num_passes, total_score, total_speedup = 0, 0, 0\n",
    "\n",
    "    # For each kernel\n",
    "    for test in tests:\n",
    "        eval_path = os.path.join(solutions_path, f\"{test['kernel_name']}_wrapper.json\")\n",
    "        baseline_path = os.path.join(canonical_path, f\"{test['kernel_name']}_wrapper.json\")\n",
    "\n",
    "        # Load test results\n",
    "        with open(eval_path, 'r') as eval_f:\n",
    "            eval_data = json.load(eval_f)\n",
    "\n",
    "            # If functional test passed get runtime stats\n",
    "            if eval_data.get('result') == \"Pass\":\n",
    "                total_cycles = eval_data.get('total_cycles')\n",
    "                total_score += eval_data.get('vector_score', 0)\n",
    "                \n",
    "                # Count number of passed tests\n",
    "                num_passes += 1\n",
    "\n",
    "                # Load baseline results\n",
    "                with open(baseline_path, 'r') as baseline_f:\n",
    "                    baseline_data = json.load(baseline_f)\n",
    "                    baseline_cycles = baseline_data.get('total_cycles')\n",
    "                    \n",
    "                    # Calculate relative speedup over baseline\n",
    "                    speedup = baseline_cycles / total_cycles\n",
    "\n",
    "                    # Safeguard against NaN\n",
    "                    if not math.isnan(speedup):\n",
    "                        total_speedup += speedup\n",
    "\n",
    "    # Compute average based on total test set\n",
    "    pass_rate = num_passes / len(tests)\n",
    "    avg_score = total_score / len(tests)\n",
    "    avg_speedup = total_speedup / len(tests)\n",
    "\n",
    "    results.append({\n",
    "        \"model\": model,\n",
    "        \"avg_score\": avg_score,\n",
    "        \"pass_rate\": pass_rate,\n",
    "        \"speedup\": avg_speedup\n",
    "    })\n",
    "\n",
    "# Create DataFrame\n",
    "df = pd.DataFrame(results)\n",
    "print(df)"
   ]
  },
  {
   "cell_type": "markdown",
   "id": "56b5e4fc-a8c6-49aa-98bc-11e4151ab870",
   "metadata": {},
   "source": [
    "## Visualize as a bar chart\n",
    "\n",
    "We'll plot the results in the same format as the original blog post"
   ]
  },
  {
   "cell_type": "code",
   "execution_count": 3,
   "id": "b7ba319f-8a48-4882-90cb-a4efc2c7e4d6",
   "metadata": {},
   "outputs": [
    {
     "data": {
      "image/png": "[encoded data removed]",
      "text/plain": [
       "<Figure size 800x600 with 1 Axes>"
      ]
     },
     "metadata": {},
     "output_type": "display_data"
    }
   ],
   "source": [
    "# Create bar plot from DataFrame\n",
    "plt.figure(figsize=(8, 6))\n",
    "plt.bar(df['model'], df['speedup'])\n",
    "plt.ylabel('Speedup')\n",
    "plt.xlabel('Model')\n",
    "plt.title('Model Speedup Comparison')\n",
    "plt.grid(axis='y', linestyle='--', alpha=0.3)\n",
    "\n",
    "# Add value labels on bars\n",
    "for i, v in enumerate(df['speedup']):\n",
    "    plt.text(i, v + 0.05, f'x{v:.2f}', ha='center', va='bottom', fontweight='bold')\n",
    "\n",
    "plt.tight_layout()\n",
    "plt.show()"
   ]
  },
  {
   "cell_type": "markdown",
   "id": "ad044f31-969b-4659-a012-56163ce18167",
   "metadata": {},
   "source": [
    "As expected the stronger GPT-4.1 model results in a bigger speedup over baseline than a mini version!"
   ]
  },
  {
   "cell_type": "markdown",
   "id": "d7e48ec1-7613-43b9-845f-9facf738d78d",
   "metadata": {},
   "source": [
    "-----\n",
    "Copyright© 2025 AMD, Inc SPDX-License-Identifier: MIT "
   ]
  }
 ],
 "metadata": {
  "kernelspec": {
   "display_name": "ironenv",
   "language": "python",
   "name": "ironenv"
  },
  "language_info": {
   "codemirror_mode": {
    "name": "ipython",
    "version": 3
   },
   "file_extension": ".py",
   "mimetype": "text/x-python",
   "name": "python",
   "nbconvert_exporter": "python",
   "pygments_lexer": "ipython3",
   "version": "3.12.7"
  }
 },
 "nbformat": 4,
 "nbformat_minor": 5
}
